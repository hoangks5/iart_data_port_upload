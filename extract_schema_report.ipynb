{
 "cells": [
  {
   "cell_type": "code",
   "execution_count": null,
   "metadata": {},
   "outputs": [],
   "source": [
    "import pandas as pd"
   ]
  },
  {
   "cell_type": "code",
   "execution_count": null,
   "metadata": {},
   "outputs": [],
   "source": [
    "import os"
   ]
  },
  {
   "cell_type": "code",
   "execution_count": null,
   "metadata": {},
   "outputs": [],
   "source": [
    "# xoa thu muc schemas va tao lai\n",
    "os.system(\"rm -rf schemas\")\n",
    "os.system(\"mkdir schemas\")"
   ]
  },
  {
   "cell_type": "code",
   "execution_count": null,
   "metadata": {},
   "outputs": [],
   "source": [
    "# list all folders in the data_sample folder\n",
    "folders = os.listdir('data_sample')\n",
    "folders"
   ]
  },
  {
   "cell_type": "code",
   "execution_count": null,
   "metadata": {},
   "outputs": [],
   "source": [
    "for tt in folders:\n",
    "    # all files in the folder\n",
    "    if tt == 'JP':\n",
    "        encoding_str = 'shift-jis'\n",
    "    else:\n",
    "        encoding_str = 'utf-8'\n",
    "    accounts = os.listdir('data_sample/' + tt)\n",
    "    for account in accounts:\n",
    "        # all files in the folder\n",
    "        files = os.listdir('data_sample/' + tt + '/' + account)\n",
    "        for file in files:\n",
    "            xpath = 'data_sample/' + tt + '/' + account + '/' + file\n",
    "            \n",
    "            if 'date range report' in xpath.lower():\n",
    "                # kiểm tra file có phải là file csv hay xlsx\n",
    "                end_file = file.split('.')[-1]\n",
    "                \n",
    "                if end_file == 'csv':\n",
    "                    try:\n",
    "                        df = pd.read_csv(xpath, skiprows=7, encoding=encoding_str)\n",
    "                    except:\n",
    "                        df = pd.read_csv(xpath, skiprows=7, encoding='utf-8')\n",
    "                    columns = df.columns\n",
    "                elif end_file == 'xlsx':\n",
    "                    print(xpath)\n",
    "                    continue\n",
    "                    # chuyển về định dạng .csv\n",
    "                    df = pd.read_excel(xpath)\n",
    "                    try:\n",
    "                        df.to_csv('temp.csv', encoding=encoding_str)\n",
    "                    except:\n",
    "                        df.to_csv('temp.csv', encoding='utf-8')\n",
    "                    try:\n",
    "                        df = pd.read_csv('temp.csv', skiprows=7, encoding=encoding_str)\n",
    "                    except:\n",
    "                        df = pd.read_csv('temp.csv', skiprows=7, encoding='utf-8')\n",
    "                    columns = df.columns\n",
    "                \n",
    "                    \n",
    "                index_str = ','.join(list(columns))\n",
    "                with open(f'./schemas/Date Range Report.csv', 'a', encoding='utf-8') as f:\n",
    "                    f.write(f'{tt},{index_str}\\n')"
   ]
  },
  {
   "cell_type": "code",
   "execution_count": null,
   "metadata": {},
   "outputs": [],
   "source": [
    "for tt in folders:\n",
    "    # all files in the folder\n",
    "    if tt == 'JP':\n",
    "        encoding_str = 'shift-jis'\n",
    "    else:\n",
    "        encoding_str = 'utf-8'\n",
    "    accounts = os.listdir('data_sample/' + tt)\n",
    "    for account in accounts:\n",
    "        # all files in the folder\n",
    "        files = os.listdir('data_sample/' + tt + '/' + account)\n",
    "        for file in files:\n",
    "            xpath = 'data_sample/' + tt + '/' + account + '/' + file\n",
    "            if 'inventory age' in xpath.lower():\n",
    "                df = pd.read_excel(xpath)\n",
    "                columns = df.columns\n",
    "                print(tt)\n",
    "                print(list(columns))\n",
    "                print(len(list(columns)))\n",
    "                index_str = ','.join(list(columns))\n",
    "                with open(f'./schemas/Inventory Age.csv', 'a', encoding='utf-8') as f:\n",
    "                    f.write(f'{tt},{index_str}\\n')\n",
    "                    "
   ]
  },
  {
   "cell_type": "code",
   "execution_count": null,
   "metadata": {},
   "outputs": [],
   "source": [
    "for tt in folders:\n",
    "    # all files in the folder\n",
    "    if tt == 'JP':\n",
    "        encoding_str = 'shift-jis'\n",
    "    else:\n",
    "        encoding_str = 'utf-8'\n",
    "    accounts = os.listdir('data_sample/' + tt)\n",
    "    for account in accounts:\n",
    "        # all files in the folder\n",
    "        files = os.listdir('data_sample/' + tt + '/' + account)\n",
    "        for file in files:\n",
    "            xpath = 'data_sample/' + tt + '/' + account + '/' + file\n",
    "            if 'manage fba inventory' in xpath.lower():\n",
    "                df = pd.read_excel(xpath)\n",
    "                columns = df.columns\n",
    "                print(tt)\n",
    "                print(list(columns))\n",
    "                print(len(list(columns)))\n",
    "                index_str = ','.join(list(columns))\n",
    "                with open(f'./schemas/Manage Fba Inventory.csv', 'a', encoding='utf-8') as f:\n",
    "                    f.write(f'{tt},{index_str}\\n')"
   ]
  },
  {
   "cell_type": "code",
   "execution_count": null,
   "metadata": {},
   "outputs": [],
   "source": [
    "for tt in folders:\n",
    "    # all files in the folder\n",
    "    if tt == 'JP':\n",
    "        encoding_str = 'shift-jis'\n",
    "    else:\n",
    "        encoding_str = 'utf-8'\n",
    "    accounts = os.listdir('data_sample/' + tt)\n",
    "    for account in accounts:\n",
    "        # all files in the folder\n",
    "        files = os.listdir('data_sample/' + tt + '/' + account)\n",
    "        for file in files:\n",
    "            xpath = 'data_sample/' + tt + '/' + account + '/' + file\n",
    "            if 'manage fba shipment' in xpath.lower():\n",
    "                df = pd.read_excel(xpath)\n",
    "                columns = df.columns\n",
    "                print(tt)\n",
    "                print(list(columns))\n",
    "                print(len(list(columns)))\n",
    "                index_str = ','.join(list(columns))\n",
    "                with open(f'./schemas/Manage Fba Shipment.csv', 'a', encoding='utf-8') as f:\n",
    "                    f.write(f'{tt},{index_str}\\n')"
   ]
  },
  {
   "cell_type": "code",
   "execution_count": null,
   "metadata": {},
   "outputs": [],
   "source": [
    "for tt in folders:\n",
    "    # all files in the folder\n",
    "    if tt == 'JP':\n",
    "        encoding_str = 'shift-jis'\n",
    "    else:\n",
    "        encoding_str = 'utf-8'\n",
    "    accounts = os.listdir('data_sample/' + tt)\n",
    "    for account in accounts:\n",
    "        # all files in the folder\n",
    "        files = os.listdir('data_sample/' + tt + '/' + account)\n",
    "        for file in files:\n",
    "            xpath = 'data_sample/' + tt + '/' + account + '/' + file\n",
    "            if 'reimbursement' in xpath.lower():\n",
    "                df = pd.read_excel(xpath)\n",
    "                columns = df.columns\n",
    "                print(tt)\n",
    "                print(list(columns))\n",
    "                print(len(list(columns)))\n",
    "                index_str = ','.join(list(columns))\n",
    "                with open(f'./schemas/Reimbursement.csv', 'a', encoding='utf-8') as f:\n",
    "                    f.write(f'{tt},{index_str}\\n')"
   ]
  },
  {
   "cell_type": "code",
   "execution_count": null,
   "metadata": {},
   "outputs": [],
   "source": [
    "for tt in folders:\n",
    "    # all files in the folder\n",
    "    if tt == 'JP':\n",
    "        encoding_str = 'shift-jis'\n",
    "    else:\n",
    "        encoding_str = 'utf-8'\n",
    "    accounts = os.listdir('data_sample/' + tt)\n",
    "    for account in accounts:\n",
    "        # all files in the folder\n",
    "        files = os.listdir('data_sample/' + tt + '/' + account)\n",
    "        for file in files:\n",
    "            xpath = 'data_sample/' + tt + '/' + account + '/' + file\n",
    "            if 'removal order detail' in xpath.lower():\n",
    "                df = pd.read_excel(xpath)\n",
    "                columns = df.columns\n",
    "                print(tt)\n",
    "                print(list(columns))\n",
    "                print(len(list(columns)))\n",
    "                index_str = ','.join(list(columns))\n",
    "                with open(f'./schemas/Removal Order Detail.csv', 'a', encoding='utf-8') as f:\n",
    "                    f.write(f'{tt},{index_str}\\n')"
   ]
  }
 ],
 "metadata": {
  "kernelspec": {
   "display_name": "Python 3",
   "language": "python",
   "name": "python3"
  },
  "language_info": {
   "codemirror_mode": {
    "name": "ipython",
    "version": 3
   },
   "file_extension": ".py",
   "mimetype": "text/x-python",
   "name": "python",
   "nbconvert_exporter": "python",
   "pygments_lexer": "ipython3",
   "version": "3.11.0"
  }
 },
 "nbformat": 4,
 "nbformat_minor": 2
}
