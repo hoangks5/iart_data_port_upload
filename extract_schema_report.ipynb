{
 "cells": [
  {
   "cell_type": "code",
   "execution_count": 1,
   "metadata": {},
   "outputs": [],
   "source": [
    "import pandas as pd"
   ]
  },
  {
   "cell_type": "code",
   "execution_count": 2,
   "metadata": {},
   "outputs": [],
   "source": [
    "import os"
   ]
  },
  {
   "cell_type": "code",
   "execution_count": 3,
   "metadata": {},
   "outputs": [
    {
     "data": {
      "text/plain": [
       "['AU', 'CA', 'DE', 'ES', 'FR', 'IT', 'JP', 'MX', 'NL', 'UK', 'US']"
      ]
     },
     "execution_count": 3,
     "metadata": {},
     "output_type": "execute_result"
    }
   ],
   "source": [
    "# list all folders in the data_sample folder\n",
    "folders = os.listdir('data_sample')\n",
    "folders"
   ]
  },
  {
   "cell_type": "code",
   "execution_count": 65,
   "metadata": {},
   "outputs": [],
   "source": [
    "for tt in folders:\n",
    "    # all files in the folder\n",
    "    if tt == 'JP':\n",
    "        encoding_str = 'shift-jis'\n",
    "    else:\n",
    "        encoding_str = 'utf-8'\n",
    "    accounts = os.listdir('data_sample/' + tt)\n",
    "    for account in accounts:\n",
    "        # all files in the folder\n",
    "        files = os.listdir('data_sample/' + tt + '/' + account)\n",
    "        for file in files:\n",
    "            xpath = 'data_sample/' + tt + '/' + account + '/' + file\n",
    "            if 'date range report' in xpath.lower():\n",
    "                df = pd.read_csv(xpath, skiprows=7, encoding=encoding_str)\n",
    "                columns = df.columns\n",
    "                #print (tt)\n",
    "                #print(list(columns))\n",
    "                #print(len(list(columns)))\n",
    "                index_str = ','.join(list(columns))\n",
    "                with open(f'./schema/date range report.csv', 'a', encoding='utf-8') as f:\n",
    "                    f.write(f'{tt},{index_str}\\n')"
   ]
  },
  {
   "cell_type": "code",
   "execution_count": 5,
   "metadata": {},
   "outputs": [
    {
     "name": "stdout",
     "output_type": "stream",
     "text": [
      "AU\n",
      "['snapshot-date', 'sku', 'fnsku', 'asin', 'product-name', 'condition', 'available', 'quantity-with-removals-in-progress', 'inventory-age-0-to-90-days', 'inventory-age-91-to-180-days', 'inventory-age-181-to-270-days', 'inventory-age-271-to-365-days', 'inventory-age-365-plus-days', 'currency', 'quantity-to-be-charged-ltsf-6-month', 'projected-ltsf-6-month', 'quantity-to-be-charged-ltsf-12-month', 'estimated-ltsf-next-charge', 'units-shipped-last-7-days', 'units-shipped-last-30-days', 'units-shipped-last-60-days', 'units-shipped-last-90-days', 'alert', 'your-price', 'sales-price', 'lowest-price-new', 'lowest-price-used', 'recommended-action', 'sell-through', 'item-volume', 'volume-units', 'storage-type', 'storage-volume', 'store', 'product-group', 'sales-rank', 'days-of-supply', 'estimated-excess-quantity', 'weeks-of-cover-last-30-days', 'weeks-of-cover-last-90-days', 'featuredoffer-price', 'sales-shipped-last-7-days', 'sales-shipped-last-30-days', 'sales-shipped-last-60-days', 'sales-shipped-last-90-days', 'inventory-age-0-30-days', 'inventory-age-31-60-days', 'inventory-age-61-90-days', 'inventory-age-181-to-330-days', 'inventory-age-331-365-days', 'estimated-storage-costs-next-30-days', 'inbound-quantity', 'inbound-working', 'inbound-received', 'inbound-shipped', 'no-sale-last-6-months', 'reserved-quantity', 'unfulfillable-quantity', 'weeks-of-cover', 'weeks-of-cover-estimated-excess-quantity', 'recommended-order-quantity', 'recommended-order-date']\n",
      "62\n",
      "CA\n",
      "['snapshot-date', 'sku', 'fnsku', 'asin', 'product-name', 'condition', 'available', 'pending-removal-quantity', 'inv-age-0-to-90-days', 'inv-age-91-to-180-days', 'inv-age-181-to-270-days', 'inv-age-271-to-365-days', 'inv-age-365-plus-days', 'currency', 'units-shipped-t7', 'units-shipped-t30', 'units-shipped-t60', 'units-shipped-t90', 'alert', 'your-price', 'sales-price', 'lowest-price-new-plus-shipping', 'lowest-price-used', 'recommended-action', 'healthy-inventory-level', 'recommended-sales-price', 'recommended-sale-duration-days', 'recommended-removal-quantity', 'estimated-cost-savings-of-recommended-actions', 'sell-through', 'item-volume', 'volume-unit-measurement', 'storage-type', 'storage-volume', 'marketplace', 'product-group', 'sales-rank', 'days-of-supply', 'estimated-excess-quantity', 'weeks-of-cover-t30', 'weeks-of-cover-t90', 'featuredoffer-price', 'sales-shipped-last-7-days', 'sales-shipped-last-30-days', 'sales-shipped-last-60-days', 'sales-shipped-last-90-days', 'inv-age-0-to-30-days', 'inv-age-31-to-60-days', 'inv-age-61-to-90-days', 'inv-age-181-to-330-days', 'inv-age-331-to-365-days', 'estimated-storage-cost-next-month', 'inbound-quantity', 'inbound-working', 'inbound-shipped', 'inbound-received', 'reserved-quantity', 'unfulfillable-quantity', 'quantity-to-be-charged-ais-271-300-days', 'estimated-ais-271-300-days', 'quantity-to-be-charged-ais-301-330-days', 'estimated-ais-301-330-days', 'quantity-to-be-charged-ais-331-365-days', 'estimated-ais-331-365-days', 'quantity-to-be-charged-ais-365-plus-days', 'estimated-ais-365-plus-days', 'historical-days-of-supply', 'Last updated date for Historical Days of Supply', 'Exempted from Low-Inventory-Level fee?', 'Low-Inventory-Level fee applied in current week?', 'Short term historical days of supply', 'Long term historical days of supply']\n",
      "72\n",
      "DE\n",
      "['snapshot-date', 'sku', 'fnsku', 'asin', 'product-name', 'condition', 'available', 'pending-removal-quantity', 'inv-age-0-to-90-days', 'inv-age-91-to-180-days', 'inv-age-181-to-270-days', 'inv-age-271-to-365-days', 'inv-age-365-plus-days', 'currency', 'units-shipped-t7', 'units-shipped-t30', 'units-shipped-t60', 'units-shipped-t90', 'alert', 'your-price', 'sales-price', 'lowest-price-new-plus-shipping', 'lowest-price-used', 'recommended-action', 'healthy-inventory-level', 'recommended-sales-price', 'recommended-sale-duration-days', 'recommended-removal-quantity', 'estimated-cost-savings-of-recommended-actions', 'sell-through', 'item-volume', 'volume-unit-measurement', 'storage-type', 'storage-volume', 'marketplace', 'product-group', 'sales-rank', 'days-of-supply', 'estimated-excess-quantity', 'weeks-of-cover-t30', 'weeks-of-cover-t90', 'featuredoffer-price', 'sales-shipped-last-7-days', 'sales-shipped-last-30-days', 'sales-shipped-last-60-days', 'sales-shipped-last-90-days', 'inv-age-0-to-30-days', 'inv-age-31-to-60-days', 'inv-age-61-to-90-days', 'inv-age-181-to-330-days', 'inv-age-331-to-365-days', 'estimated-storage-cost-next-month', 'inbound-quantity', 'inbound-working', 'inbound-shipped', 'inbound-received', 'reserved-quantity', 'unfulfillable-quantity', 'quantity-to-be-charged-ais-271-300-days', 'estimated-ais-271-300-days', 'quantity-to-be-charged-ais-301-330-days', 'estimated-ais-301-330-days', 'quantity-to-be-charged-ais-331-365-days', 'estimated-ais-331-365-days', 'quantity-to-be-charged-ais-365-plus-days', 'estimated-ais-365-plus-days', 'historical-days-of-supply', 'Last updated date for Historical Days of Supply', 'Exempted from Low-Inventory cost coverage fee?', 'Low-Inventory cost coverage fee applied in current week?', 'Short term historical days of supply', 'Long term historical days of supply']\n",
      "72\n",
      "ES\n",
      "[]\n",
      "0\n",
      "FR\n",
      "['snapshot-date', 'sku', 'fnsku', 'asin', 'product-name', 'condition', 'available', 'pending-removal-quantity', 'inv-age-0-to-90-days', 'inv-age-91-to-180-days', 'inv-age-181-to-270-days', 'inv-age-271-to-365-days', 'inv-age-365-plus-days', 'currency', 'units-shipped-t7', 'units-shipped-t30', 'units-shipped-t60', 'units-shipped-t90', 'alert', 'your-price', 'sales-price', 'lowest-price-new-plus-shipping', 'lowest-price-used', 'recommended-action', 'healthy-inventory-level', 'recommended-sales-price', 'recommended-sale-duration-days', 'recommended-removal-quantity', 'estimated-cost-savings-of-recommended-actions', 'sell-through', 'item-volume', 'volume-unit-measurement', 'storage-type', 'storage-volume', 'marketplace', 'product-group', 'sales-rank', 'days-of-supply', 'estimated-excess-quantity', 'weeks-of-cover-t30', 'weeks-of-cover-t90', 'featuredoffer-price', 'sales-shipped-last-7-days', 'sales-shipped-last-30-days', 'sales-shipped-last-60-days', 'sales-shipped-last-90-days', 'inv-age-0-to-30-days', 'inv-age-31-to-60-days', 'inv-age-61-to-90-days', 'inv-age-181-to-330-days', 'inv-age-331-to-365-days', 'estimated-storage-cost-next-month', 'inbound-quantity', 'inbound-working', 'inbound-shipped', 'inbound-received', 'reserved-quantity', 'unfulfillable-quantity', 'quantity-to-be-charged-ais-271-300-days', 'estimated-ais-271-300-days', 'quantity-to-be-charged-ais-301-330-days', 'estimated-ais-301-330-days', 'quantity-to-be-charged-ais-331-365-days', 'estimated-ais-331-365-days', 'quantity-to-be-charged-ais-365-plus-days', 'estimated-ais-365-plus-days', 'historical-days-of-supply', 'Last updated date for Historical Days of Supply', 'Exempted from Low-Inventory cost coverage fee?', 'Low-Inventory cost coverage fee applied in current week?', 'Short term historical days of supply', 'Long term historical days of supply']\n",
      "72\n",
      "IT\n",
      "[]\n",
      "0\n",
      "JP\n",
      "['snapshot-date', 'sku', 'FNSKU', 'asin', 'product-name', 'condition', 'available', 'quantity-with-removals-in-progress', 'inventory-age-0-to-90-days', 'inventory-age-91-to-180-days', 'inventory-age-181-to-270-days', 'inventory-age-271-to-365-days', 'inventory-age-365-plus-days', 'currency', 'quantity-to-be-charged-ltsf-6-month', 'projected-ltsf-6-month', 'quantity-to-be-charged-ltsf-12-month', 'estimated-ltsf-next-charge', 'units-shipped-last-7-days', 'units-shipped-last-30-days', 'units-shipped-last-60-days', 'units-shipped-last-90-days', 'alert', 'your-price', 'sales-price', 'lowest-price-new', 'lowest-price-used', 'recommended-action', 'healthy-inventory-level', 'recommended-sales-price', 'recommended-sales-duration', 'recommended-removal-quantity', 'estimated-cost-savings-of-recommended-actions', 'sell-through', 'item-volume', 'volume-units', 'storage-type', 'storage-volume', 'store', 'product-group', 'sales-rank', 'days-of-supply', 'estimated-excess-quantity', 'weeks-of-cover-last-30-days', 'weeks-of-cover-last-90-days', 'featuredoffer-price', 'sales-shipped-last-7-days', 'sales-shipped-last-30-days', 'sales-shipped-last-60-days', 'sales-shipped-last-90-days', 'inventory-age-0-30-days', 'inventory-age-31-60-days', 'inventory-age-61-90-days', 'inventory-age-181-to-330-days', 'inventory-age-331-365-days', 'estimated-storage-costs-next-30-days', 'inbound-quantity', 'inbound-working', 'inbound-received', 'inbound-shipped', 'no-sale-last-6-months', 'reserved-quantity', 'unfulfillable-quantity']\n",
      "63\n",
      "MX\n",
      "[]\n",
      "0\n",
      "UK\n",
      "['snapshot-date', 'sku', 'fnsku', 'asin', 'product-name', 'condition', 'available', 'pending-removal-quantity', 'inv-age-0-to-90-days', 'inv-age-91-to-180-days', 'inv-age-181-to-270-days', 'inv-age-271-to-365-days', 'inv-age-365-plus-days', 'currency', 'units-shipped-t7', 'units-shipped-t30', 'units-shipped-t60', 'units-shipped-t90', 'alert', 'your-price', 'sales-price', 'lowest-price-new-plus-shipping', 'lowest-price-used', 'recommended-action', 'healthy-inventory-level', 'recommended-sales-price', 'recommended-sale-duration-days', 'recommended-removal-quantity', 'estimated-cost-savings-of-recommended-actions', 'sell-through', 'item-volume', 'volume-unit-measurement', 'storage-type', 'storage-volume', 'marketplace', 'product-group', 'sales-rank', 'days-of-supply', 'estimated-excess-quantity', 'weeks-of-cover-t30', 'weeks-of-cover-t90', 'featuredoffer-price', 'sales-shipped-last-7-days', 'sales-shipped-last-30-days', 'sales-shipped-last-60-days', 'sales-shipped-last-90-days', 'inv-age-0-to-30-days', 'inv-age-31-to-60-days', 'inv-age-61-to-90-days', 'inv-age-181-to-330-days', 'inv-age-331-to-365-days', 'estimated-storage-cost-next-month', 'inbound-quantity', 'inbound-working', 'inbound-shipped', 'inbound-received', 'reserved-quantity', 'unfulfillable-quantity', 'quantity-to-be-charged-ais-271-300-days', 'estimated-ais-271-300-days', 'quantity-to-be-charged-ais-301-330-days', 'estimated-ais-301-330-days', 'quantity-to-be-charged-ais-331-365-days', 'estimated-ais-331-365-days', 'quantity-to-be-charged-ais-365-plus-days', 'estimated-ais-365-plus-days', 'historical-days-of-supply', 'Last updated date for Historical Days of Supply', 'Short term historical days of supply', 'Long term historical days of supply']\n",
      "70\n",
      "US\n",
      "['snapshot-date', 'sku', 'fnsku', 'asin', 'product-name', 'condition', 'available', 'pending-removal-quantity', 'inv-age-0-to-90-days', 'inv-age-91-to-180-days', 'inv-age-181-to-270-days', 'inv-age-271-to-365-days', 'inv-age-365-plus-days', 'currency', 'units-shipped-t7', 'units-shipped-t30', 'units-shipped-t60', 'units-shipped-t90', 'alert', 'your-price', 'sales-price', 'lowest-price-new-plus-shipping', 'lowest-price-used', 'recommended-action', 'DEPRECATED healthy-inventory-level', 'recommended-sales-price', 'recommended-sale-duration-days', 'recommended-removal-quantity', 'estimated-cost-savings-of-recommended-actions', 'sell-through', 'item-volume', 'volume-unit-measurement', 'storage-type', 'storage-volume', 'marketplace', 'product-group', 'sales-rank', 'days-of-supply', 'estimated-excess-quantity', 'weeks-of-cover-t30', 'weeks-of-cover-t90', 'featuredoffer-price', 'sales-shipped-last-7-days', 'sales-shipped-last-30-days', 'sales-shipped-last-60-days', 'sales-shipped-last-90-days', 'inv-age-0-to-30-days', 'inv-age-31-to-60-days', 'inv-age-61-to-90-days', 'inv-age-181-to-330-days', 'inv-age-331-to-365-days', 'estimated-storage-cost-next-month', 'inbound-quantity', 'inbound-working', 'inbound-shipped', 'inbound-received', 'no-sale-last-6-months', 'reserved-quantity', 'unfulfillable-quantity', 'quantity-to-be-charged-ais-181-210-days', 'estimated-ais-181-210-days', 'quantity-to-be-charged-ais-211-240-days', 'estimated-ais-211-240-days', 'quantity-to-be-charged-ais-241-270-days', 'estimated-ais-241-270-days', 'quantity-to-be-charged-ais-271-300-days', 'estimated-ais-271-300-days', 'quantity-to-be-charged-ais-301-330-days', 'estimated-ais-301-330-days', 'quantity-to-be-charged-ais-331-365-days', 'estimated-ais-331-365-days', 'quantity-to-be-charged-ais-365-plus-days', 'estimated-ais-365-plus-days', 'historical-days-of-supply', 'fba-minimum-inventory-level', 'fba-inventory-level-health-status', 'Recommended ship-in quantity', 'Recommended ship-in date', 'Last updated date for Historical Days of Supply', 'Exempted from Low-Inventory-Level fee?', 'Low-Inventory-Level fee applied in current week?', 'Short term historical days of supply', 'Long term historical days of supply']\n",
      "83\n"
     ]
    }
   ],
   "source": [
    "for tt in folders:\n",
    "    # all files in the folder\n",
    "    if tt == 'JP':\n",
    "        encoding_str = 'shift-jis'\n",
    "    else:\n",
    "        encoding_str = 'utf-8'\n",
    "    accounts = os.listdir('data_sample/' + tt)\n",
    "    for account in accounts:\n",
    "        # all files in the folder\n",
    "        files = os.listdir('data_sample/' + tt + '/' + account)\n",
    "        for file in files:\n",
    "            xpath = 'data_sample/' + tt + '/' + account + '/' + file\n",
    "            if 'inventory age' in xpath.lower():\n",
    "                df = pd.read_excel(xpath)\n",
    "                columns = df.columns\n",
    "                print(tt)\n",
    "                print(list(columns))\n",
    "                print(len(list(columns)))\n",
    "                index_str = ','.join(list(columns))\n",
    "                with open(f'./schema/inventory age.csv', 'a', encoding='utf-8') as f:\n",
    "                    f.write(f'{tt},{index_str}\\n')\n",
    "                    \n",
    "                "
   ]
  },
  {
   "cell_type": "code",
   "execution_count": null,
   "metadata": {},
   "outputs": [],
   "source": []
  }
 ],
 "metadata": {
  "kernelspec": {
   "display_name": "Python 3",
   "language": "python",
   "name": "python3"
  },
  "language_info": {
   "codemirror_mode": {
    "name": "ipython",
    "version": 3
   },
   "file_extension": ".py",
   "mimetype": "text/x-python",
   "name": "python",
   "nbconvert_exporter": "python",
   "pygments_lexer": "ipython3",
   "version": "3.11.0"
  }
 },
 "nbformat": 4,
 "nbformat_minor": 2
}
