{
 "cells": [
  {
   "cell_type": "code",
   "execution_count": 2,
   "metadata": {},
   "outputs": [],
   "source": [
    "import pandas as pd"
   ]
  },
  {
   "cell_type": "code",
   "execution_count": 22,
   "metadata": {},
   "outputs": [
    {
     "name": "stdout",
     "output_type": "stream",
     "text": [
      "Index(['date/heure', 'numéro de versement', 'type', 'numéro de la commande',\n",
      "       'sku', 'description', 'quantité', 'Marketplace', 'traitement',\n",
      "       'ville d'où provient la commande', 'Région d'où provient la commande',\n",
      "       'code postal de la commande', 'Modèle de perception des taxes',\n",
      "       'ventes de produits', 'Taxes sur la vente des produits',\n",
      "       'crédits d'expédition', 'taxe sur les crédits d’expédition',\n",
      "       'crédits sur l'emballage cadeau', 'Taxes sur les crédits cadeaux',\n",
      "       'Rabais promotionnels', 'Taxes sur les remises promotionnelles',\n",
      "       'Taxes retenues sur le site de vente', 'frais de vente',\n",
      "       'Frais Expédié par Amazon', 'autres frais de transaction', 'autre',\n",
      "       'total'],\n",
      "      dtype='object')\n"
     ]
    }
   ],
   "source": [
    "df = pd.read_csv('./data_sample/Date range report - thomasstone3elel3@gmail.com.csv', skiprows=7)\n",
    "# Lấy list tên cột\n",
    "columns = df.columns\n",
    "print(columns)"
   ]
  },
  {
   "cell_type": "code",
   "execution_count": null,
   "metadata": {},
   "outputs": [],
   "source": []
  }
 ],
 "metadata": {
  "kernelspec": {
   "display_name": "Python 3",
   "language": "python",
   "name": "python3"
  },
  "language_info": {
   "codemirror_mode": {
    "name": "ipython",
    "version": 3
   },
   "file_extension": ".py",
   "mimetype": "text/x-python",
   "name": "python",
   "nbconvert_exporter": "python",
   "pygments_lexer": "ipython3",
   "version": "3.11.0"
  }
 },
 "nbformat": 4,
 "nbformat_minor": 2
}
